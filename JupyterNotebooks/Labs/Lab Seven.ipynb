{
 "metadata": {
  "language_info": {
   "codemirror_mode": {
    "name": "ipython",
    "version": 3
   },
   "file_extension": ".py",
   "mimetype": "text/x-python",
   "name": "python",
   "nbconvert_exporter": "python",
   "pygments_lexer": "ipython3",
   "version": "3.8.3-final"
  },
  "orig_nbformat": 2,
  "kernelspec": {
   "name": "Python 3.8.3 64-bit ('base': conda)",
   "display_name": "Python 3.8.3 64-bit ('base': conda)",
   "metadata": {
    "interpreter": {
     "hash": "8d67999c516597dfdd6dc88cf44e1bf9759ce24b00bbb478f380f1f2d7716e06"
    }
   }
  }
 },
 "nbformat": 4,
 "nbformat_minor": 2,
 "cells": [
  {
   "cell_type": "markdown",
   "metadata": {},
   "source": [
    "# Lab Seven"
   ]
  },
  {
   "cell_type": "code",
   "execution_count": 3,
   "metadata": {},
   "outputs": [
    {
     "output_type": "stream",
     "name": "stdout",
     "text": [
      "Python is 👍\nCoding makes me 😡\nThis class makes me 😱\n"
     ]
    }
   ],
   "source": [
    "import emoji\n",
    "\n",
    "#emojize function\n",
    "print(emoji.emojize(\"Python is :thumbs_up:\"))\n",
    "print(emoji.emojize(\"Coding makes me :rage:\", use_aliases=True))\n",
    "print(emoji.emojize(\"This class makes me :scream:\", use_aliases=True))\n",
    "\n",
    "#demojize function"
   ]
  },
  {
   "cell_type": "code",
   "execution_count": null,
   "metadata": {},
   "outputs": [],
   "source": []
  }
 ]
}